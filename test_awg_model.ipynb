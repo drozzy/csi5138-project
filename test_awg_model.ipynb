{
 "cells": [
  {
   "cell_type": "code",
   "execution_count": 1,
   "metadata": {},
   "outputs": [],
   "source": [
    "%load_ext autoreload\n",
    "%autoreload 2\n",
    "\n",
    "from model_awg import AdversarialWeightGenenerator, create_model\n",
    "import numpy as np\n",
    "import tensorflow as tf\n",
    "import tensorflow.keras.backend as K"
   ]
  },
  {
   "cell_type": "code",
   "execution_count": 2,
   "metadata": {},
   "outputs": [
    {
     "name": "stdout",
     "output_type": "stream",
     "text": [
      "Input shape is: (4, 100, 100)\n",
      "Output features: 100\n"
     ]
    }
   ],
   "source": [
    "#(batch, num_layers, seq_len, seq_len)\n",
    "model, optimizer = create_model(\"test_model\", load_checkpoint=False)"
   ]
  },
  {
   "cell_type": "code",
   "execution_count": 3,
   "metadata": {},
   "outputs": [
    {
     "data": {
      "text/plain": [
       "TensorShape([55, 4, 100, 100])"
      ]
     },
     "execution_count": 3,
     "metadata": {},
     "output_type": "execute_result"
    }
   ],
   "source": [
    "x = tf.random.normal((55, 4, 100, 100))\n",
    "x.shape"
   ]
  },
  {
   "cell_type": "code",
   "execution_count": 4,
   "metadata": {},
   "outputs": [
    {
     "name": "stdout",
     "output_type": "stream",
     "text": [
      "(55, 4, 100, 100)\n"
     ]
    }
   ],
   "source": [
    "y = model(x)\n",
    "print(y.shape)"
   ]
  },
  {
   "cell_type": "code",
   "execution_count": 5,
   "metadata": {},
   "outputs": [
    {
     "data": {
      "text/plain": [
       "TensorShape([100, 16])"
      ]
     },
     "execution_count": 5,
     "metadata": {},
     "output_type": "execute_result"
    }
   ],
   "source": [
    "model.trainable_weights[0].shape"
   ]
  },
  {
   "cell_type": "code",
   "execution_count": 6,
   "metadata": {},
   "outputs": [
    {
     "name": "stdout",
     "output_type": "stream",
     "text": [
      "Total params: 3316\n",
      "Trainable params: 3316\n",
      "Non-trainable params: 0\n"
     ]
    }
   ],
   "source": [
    "trainable_count = np.sum([K.count_params(w) for w in model.trainable_weights])\n",
    "non_trainable_count = int(np.sum([K.count_params(w) for w in model.non_trainable_weights]))\n",
    "\n",
    "print(f'Total params: {trainable_count + non_trainable_count}')\n",
    "print(f'Trainable params: {trainable_count}')\n",
    "print(f'Non-trainable params: {non_trainable_count}')"
   ]
  },
  {
   "cell_type": "code",
   "execution_count": 40,
   "metadata": {},
   "outputs": [],
   "source": [
    "def create_dataset(N=100):\n",
    "    x =  tf.nn.softmax(tf.random.uniform((N, 4, 100, 100)))\n",
    "    y = tf.nn.softmax(-2.0*x**3 + 5.0*x**2 -2.0*x + 1.0)\n",
    "    return (x, y)"
   ]
  },
  {
   "cell_type": "code",
   "execution_count": 41,
   "metadata": {},
   "outputs": [],
   "source": [
    "data = create_dataset()"
   ]
  },
  {
   "cell_type": "code",
   "execution_count": 42,
   "metadata": {},
   "outputs": [],
   "source": [
    "x, y = data"
   ]
  },
  {
   "cell_type": "code",
   "execution_count": 43,
   "metadata": {},
   "outputs": [
    {
     "name": "stdout",
     "output_type": "stream",
     "text": [
      "(100, 4, 100, 100)\n",
      "(100, 4, 100, 100)\n"
     ]
    },
    {
     "data": {
      "text/plain": [
       "<tf.Tensor: id=7961844, shape=(), dtype=float32, numpy=1.0>"
      ]
     },
     "execution_count": 43,
     "metadata": {},
     "output_type": "execute_result"
    }
   ],
   "source": [
    "print(x.shape)\n",
    "print(y.shape)\n",
    "tf.reduce_sum(y[0][0][0])"
   ]
  },
  {
   "cell_type": "code",
   "execution_count": 44,
   "metadata": {},
   "outputs": [],
   "source": [
    "def evaluate(model, xt, yt):    \n",
    "    \n",
    "    # Eval\n",
    "    ypred = model(xt, training=False)\n",
    "    loss = loss_obj(yt, ypred)\n",
    "    return loss"
   ]
  },
  {
   "cell_type": "code",
   "execution_count": 45,
   "metadata": {},
   "outputs": [
    {
     "name": "stdout",
     "output_type": "stream",
     "text": [
      "Input shape is: (4, 100, 100)\n",
      "Output features: 100\n",
      " 1. Out: 7.3020419e-05  In: 7.2906783e-05  \n",
      " 2. Out: 5.3025986e-05  In: 5.2954994e-05  \n",
      " 3. Out: 3.8366714e-05  In: 3.8296585e-05  \n",
      " 4. Out: 2.9036850e-05  In: 2.8941542e-05  \n",
      " 5. Out: 2.4016526e-05  In: 2.3980332e-05  \n",
      " 6. Out: 2.2108687e-05  In: 2.2092632e-05  \n",
      " 7. Out: 2.1981714e-05  In: 2.1979897e-05  \n",
      " 8. Out: 2.2623657e-05  In: 2.2630724e-05  \n",
      " 9. Out: 2.3392247e-05  In: 2.3387109e-05  \n",
      "10. Out: 2.3902703e-05  In: 2.3908628e-05  \n",
      "11. Out: 2.4087725e-05  In: 2.4080786e-05  \n",
      "12. Out: 2.3933972e-05  In: 2.3924104e-05  \n",
      "13. Out: 2.3508001e-05  In: 2.3523116e-05  \n",
      "14. Out: 2.2976332e-05  In: 2.2980428e-05  \n",
      "15. Out: 2.2380866e-05  In: 2.2391505e-05  \n",
      "16. Out: 2.1825324e-05  In: 2.1823582e-05  \n",
      "17. Out: 2.1298260e-05  In: 2.1312508e-05  \n",
      "18. Out: 2.0881540e-05  In: 2.0870457e-05  \n",
      "19. Out: 2.0485140e-05  In: 2.0494521e-05  \n",
      "20. Out: 2.0172822e-05  In: 2.0176629e-05  \n",
      "21. Out: 1.9923020e-05  In: 1.9908130e-05  \n"
     ]
    }
   ],
   "source": [
    "model, optimizer = create_model(\"test_model\", load_checkpoint=False)\n",
    "loss_obj = tf.keras.losses.KLDivergence()\n",
    "\n",
    "(xt, yt) = create_dataset(N=100)\n",
    "epoch = 1\n",
    "\n",
    "(x, y) = create_dataset(N=100)\n",
    "print(f\"{epoch:2}. Out: {evaluate(model, xt, yt):.7e}  In: {evaluate(model, x, y):.7e}  \")\n",
    "\n",
    "for _ in range(20):        \n",
    "    epoch += 1\n",
    "\n",
    "    with tf.GradientTape() as tape:\n",
    "            pred = model(x, training=True)        \n",
    "\n",
    "            loss = loss_obj(y, pred)\n",
    "#                 print(loss)\n",
    "    #         loss = tf.keras.losses.binary_crossentropy(y_true=y, y_pred=logits, from_logits=True)\n",
    "\n",
    "    grads = tape.gradient(loss, model.trainable_weights)                \n",
    "    optimizer.apply_gradients(zip(grads, model.trainable_weights))\n",
    "\n",
    "    (xt, yt) = create_dataset(N=100)\n",
    "    print(f\"{epoch:2}. Out: {evaluate(model, xt, yt):.7e}  In: {evaluate(model, x, y):.7e}  \")\n",
    "    "
   ]
  },
  {
   "cell_type": "code",
   "execution_count": 46,
   "metadata": {},
   "outputs": [
    {
     "name": "stdout",
     "output_type": "stream",
     "text": [
      "tf.Tensor(\n",
      "[0.01008101 0.01006052 0.01008044 0.01006802 0.0099774  0.01005746\n",
      " 0.00992219 0.01003918 0.01004559 0.00996095 0.01005557 0.01000738\n",
      " 0.00990914 0.00997245 0.00990048 0.00998525 0.01005339 0.01004901\n",
      " 0.00991599 0.00991833 0.01003806 0.00997801 0.01006414 0.00992602\n",
      " 0.01006282 0.00995271 0.01001343 0.00991134 0.01001556 0.0099549\n",
      " 0.01003063 0.00996015 0.01005401 0.00990058 0.01003408 0.01007544\n",
      " 0.009912   0.00995179 0.01001517 0.00992082 0.01000205 0.01000024\n",
      " 0.01000135 0.00999754 0.00997605 0.01002908 0.01004526 0.01000728\n",
      " 0.00997173 0.0100193  0.00997164 0.00991191 0.01002974 0.01003049\n",
      " 0.00991107 0.00994424 0.01000276 0.00994613 0.0100759  0.01008024\n",
      " 0.01005971 0.0099936  0.01007728 0.01005337 0.00994357 0.01003835\n",
      " 0.00997705 0.0100767  0.01005906 0.00990703 0.01002434 0.01006802\n",
      " 0.00994824 0.00993563 0.01001273 0.00998096 0.00992093 0.009959\n",
      " 0.00992031 0.01002712 0.00991291 0.0100529  0.01003497 0.00997655\n",
      " 0.00996934 0.0100457  0.01005608 0.0100636  0.01001208 0.01005867\n",
      " 0.01003897 0.00996754 0.01007878 0.01004756 0.0100495  0.00991394\n",
      " 0.00998455 0.01004443 0.00997948 0.00994403], shape=(100,), dtype=float32)\n",
      "tf.Tensor(\n",
      "[0.01008687 0.00998904 0.01001615 0.00999943 0.01000357 0.01000605\n",
      " 0.01005591 0.01002318 0.00998592 0.00997632 0.00999102 0.01001305\n",
      " 0.01000595 0.01003    0.00992855 0.00994759 0.01000042 0.00998027\n",
      " 0.01007388 0.01000107 0.01000606 0.01000336 0.0100055  0.01002154\n",
      " 0.01004138 0.00993016 0.00998503 0.01000529 0.01003136 0.01006264\n",
      " 0.01000696 0.00997571 0.01003154 0.00999722 0.00996607 0.00996732\n",
      " 0.0100355  0.00998765 0.01001819 0.01001225 0.00998342 0.01003526\n",
      " 0.01000379 0.00996726 0.00996716 0.00999302 0.01001892 0.00999537\n",
      " 0.00998018 0.01002367 0.00999998 0.00995253 0.01000654 0.01002244\n",
      " 0.01002169 0.00994574 0.00999506 0.01002453 0.01001666 0.01001794\n",
      " 0.0099515  0.00999726 0.00997876 0.010045   0.00999608 0.01001511\n",
      " 0.00998603 0.00995825 0.00999292 0.01005316 0.01000237 0.00999523\n",
      " 0.00996446 0.00999287 0.00996553 0.0099894  0.00997045 0.00998882\n",
      " 0.01001191 0.00997466 0.01004357 0.01001387 0.01001077 0.00999271\n",
      " 0.00994188 0.00996167 0.01001832 0.01005066 0.00996725 0.01001727\n",
      " 0.0100195  0.01001128 0.00996514 0.00999634 0.00994479 0.01002611\n",
      " 0.01001414 0.00994685 0.00997152 0.01008043], shape=(100,), dtype=float32)\n"
     ]
    }
   ],
   "source": [
    "ypred = model(xt, training=False)\n",
    "print(yt[0][0][0])\n",
    "print(ypred[0][0][0])"
   ]
  },
  {
   "cell_type": "code",
   "execution_count": null,
   "metadata": {},
   "outputs": [],
   "source": []
  }
 ],
 "metadata": {
  "kernelspec": {
   "display_name": "Python 3",
   "language": "python",
   "name": "python3"
  },
  "language_info": {
   "codemirror_mode": {
    "name": "ipython",
    "version": 3
   },
   "file_extension": ".py",
   "mimetype": "text/x-python",
   "name": "python",
   "nbconvert_exporter": "python",
   "pygments_lexer": "ipython3",
   "version": "3.7.3"
  }
 },
 "nbformat": 4,
 "nbformat_minor": 4
}

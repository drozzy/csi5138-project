{
 "cells": [
  {
   "cell_type": "code",
   "execution_count": 1,
   "metadata": {},
   "outputs": [],
   "source": [
    "%load_ext autoreload\n",
    "%autoreload 2\n",
    "\n",
    "from model_awg import AdversarialWeightGenenerator, create_model\n",
    "import numpy as np\n",
    "import tensorflow as tf\n",
    "import tensorflow.keras.backend as K"
   ]
  },
  {
   "cell_type": "code",
   "execution_count": 2,
   "metadata": {},
   "outputs": [
    {
     "name": "stdout",
     "output_type": "stream",
     "text": [
      "Input shape is: (2, 100, 100)\n",
      "Output features: 100\n"
     ]
    }
   ],
   "source": [
    "#(batch, num_layers, seq_len, seq_len)\n",
    "num_layers = 2\n",
    "seq_len = 100\n",
    "model, optimizer = create_model(\"test_model\", load_checkpoint=False, num_layers=num_layers, seq_len=seq_len)"
   ]
  },
  {
   "cell_type": "code",
   "execution_count": 3,
   "metadata": {},
   "outputs": [
    {
     "data": {
      "text/plain": [
       "TensorShape([55, 2, 100, 100])"
      ]
     },
     "execution_count": 3,
     "metadata": {},
     "output_type": "execute_result"
    }
   ],
   "source": [
    "x = tf.random.normal((55, num_layers, seq_len, seq_len))\n",
    "x.shape"
   ]
  },
  {
   "cell_type": "code",
   "execution_count": 4,
   "metadata": {},
   "outputs": [
    {
     "name": "stdout",
     "output_type": "stream",
     "text": [
      "(55, 2, 100, 100)\n"
     ]
    }
   ],
   "source": [
    "y = model(x)\n",
    "print(y.shape)"
   ]
  },
  {
   "cell_type": "code",
   "execution_count": 5,
   "metadata": {},
   "outputs": [
    {
     "data": {
      "text/plain": [
       "TensorShape([100, 256])"
      ]
     },
     "execution_count": 5,
     "metadata": {},
     "output_type": "execute_result"
    }
   ],
   "source": [
    "model.trainable_weights[0].shape"
   ]
  },
  {
   "cell_type": "code",
   "execution_count": 6,
   "metadata": {},
   "outputs": [
    {
     "name": "stdout",
     "output_type": "stream",
     "text": [
      "Total params: 51556\n",
      "Trainable params: 51556\n",
      "Non-trainable params: 0\n"
     ]
    }
   ],
   "source": [
    "trainable_count = np.sum([K.count_params(w) for w in model.trainable_weights])\n",
    "non_trainable_count = int(np.sum([K.count_params(w) for w in model.non_trainable_weights]))\n",
    "\n",
    "print(f'Total params: {trainable_count + non_trainable_count}')\n",
    "print(f'Trainable params: {trainable_count}')\n",
    "print(f'Non-trainable params: {non_trainable_count}')"
   ]
  },
  {
   "cell_type": "code",
   "execution_count": 7,
   "metadata": {},
   "outputs": [],
   "source": [
    "def create_dataset(N=100):\n",
    "    x =  tf.nn.softmax(tf.random.uniform((N, num_layers, seq_len, seq_len)))\n",
    "#     y = tf.nn.softmax(tf.random.uniform((N, num_layers, seq_len, seq_len)))\n",
    "    y = tf.nn.softmax(x*2)\n",
    "    return (x, y)"
   ]
  },
  {
   "cell_type": "code",
   "execution_count": 8,
   "metadata": {},
   "outputs": [],
   "source": [
    "data = create_dataset()\n",
    "\n",
    "x, y = data"
   ]
  },
  {
   "cell_type": "code",
   "execution_count": 9,
   "metadata": {},
   "outputs": [
    {
     "name": "stdout",
     "output_type": "stream",
     "text": [
      "(100, 2, 100, 100)\n",
      "(100, 2, 100, 100)\n"
     ]
    },
    {
     "data": {
      "text/plain": [
       "<tf.Tensor: id=104, shape=(), dtype=float32, numpy=1.0>"
      ]
     },
     "execution_count": 9,
     "metadata": {},
     "output_type": "execute_result"
    }
   ],
   "source": [
    "print(x.shape)\n",
    "print(y.shape)\n",
    "tf.reduce_sum(y[0][0][0])"
   ]
  },
  {
   "cell_type": "code",
   "execution_count": 10,
   "metadata": {},
   "outputs": [],
   "source": [
    "def evaluate(model, xt, yt):    \n",
    "    \n",
    "    # Eval\n",
    "    ypred = model(xt, training=False)\n",
    "    loss = loss_obj(yt, ypred)\n",
    "    return loss"
   ]
  },
  {
   "cell_type": "code",
   "execution_count": 11,
   "metadata": {},
   "outputs": [
    {
     "name": "stdout",
     "output_type": "stream",
     "text": [
      "Input shape is: (2, 100, 100)\n",
      "Output features: 100\n",
      "  1. Out: 6.4122818e-05  In: 6.4099499e-05  \n",
      "100. Out: 1.7920587e-05  In: 1.7933527e-05  \n",
      "200. Out: 1.5646167e-05  In: 1.5647212e-05  \n",
      "300. Out: 1.3302302e-05  In: 1.3291939e-05  \n",
      "400. Out: 1.1124473e-05  In: 1.1105893e-05  \n",
      "500. Out: 9.1896654e-06  In: 9.1649072e-06  \n",
      "600. Out: 7.5110220e-06  In: 7.4824156e-06  \n",
      "700. Out: 6.0755419e-06  In: 6.0455232e-06  \n",
      "800. Out: 4.8613242e-06  In: 4.8305697e-06  \n",
      "900. Out: 3.8438452e-06  In: 3.8139538e-06  \n",
      "1000. Out: 2.9994083e-06  In: 2.9713112e-06  \n",
      "1100. Out: 2.3056700e-06  In: 2.2808106e-06  \n",
      "1200. Out: 1.7432351e-06  In: 1.7213546e-06  \n",
      "1300. Out: 1.2939282e-06  In: 1.2755753e-06  \n",
      "1400. Out: 9.4138625e-07  In: 9.2613249e-07  \n",
      "1500. Out: 6.7110881e-07  In: 6.5927821e-07  \n",
      "1600. Out: 4.7033240e-07  In: 4.6105040e-07  \n",
      "1700. Out: 3.1891494e-07  In: 3.1255405e-07  \n",
      "1800. Out: 2.1391982e-07  In: 2.0914776e-07  \n",
      "1900. Out: 1.4040945e-07  In: 1.3681583e-07  \n",
      "2000. Out: 9.1588703e-08  In: 8.9436782e-08  \n",
      "2100. Out: 5.7306405e-08  In: 5.5989549e-08  \n",
      "2200. Out: 3.5848117e-08  In: 3.5256654e-08  \n",
      "2300. Out: 2.2146494e-08  In: 2.1994644e-08  \n",
      "2400. Out: 1.5257344e-08  In: 1.5002803e-08  \n",
      "2500. Out: 9.6015551e-09  In: 9.1403853e-09  \n",
      "2600. Out: 6.4142549e-09  In: 5.7705689e-09  \n",
      "2700. Out: 3.2215559e-09  In: 2.8574916e-09  \n",
      "2800. Out: 3.5997700e-09  In: 3.4301564e-09  \n",
      "2900. Out: 7.2642621e-09  In: 7.6841582e-09  \n",
      "3000. Out: 8.9580929e-09  In: 9.2569827e-09  \n",
      "3100. Out: 1.6703407e-08  In: 1.6942272e-08  \n",
      "3200. Out: 3.8693332e-10  In: 2.3927391e-10  \n",
      "3300. Out: 3.6401455e-09  In: 3.6110708e-09  \n",
      "3400. Out: 2.3438744e-08  In: 2.3609198e-08  \n",
      "3500. Out: 1.9503210e-08  In: 2.0002297e-08  \n",
      "3600. Out: 3.7201937e-09  In: 3.7132879e-09  \n",
      "3700. Out: 4.7906648e-09  In: 4.7667816e-09  \n",
      "3800. Out: 4.3588235e-09  In: 4.8737618e-09  \n",
      "3900. Out: 1.1427716e-10  In: 6.7747269e-10  \n",
      "4000. Out: 1.2959016e-09  In: 1.4456250e-09  \n",
      "4100. Out: 3.4799899e-09  In: 3.1505545e-09  \n",
      "4200. Out: 1.2507159e-09  In: 1.2212816e-09  \n",
      "4300. Out: 2.7175713e-09  In: 2.7435776e-09  \n",
      "4400. Out: 1.0814210e-08  In: 1.0537554e-08  \n",
      "4500. Out: 1.3868383e-09  In: 1.6017255e-09  \n",
      "4600. Out: 9.0361890e-10  In: 1.2479098e-09  \n",
      "4700. Out: 3.2227404e-10  In: 4.9815774e-10  \n",
      "4800. Out: 3.1300025e-09  In: 3.5602437e-09  \n",
      "4900. Out: 6.5970842e-09  In: 6.3869017e-09  \n",
      "5000. Out: 4.2738013e-09  In: 5.0539732e-09  \n",
      "5100. Out: 3.5804220e-09  In: 3.1567542e-09  \n",
      "5200. Out: 1.1741724e-08  In: 1.2264151e-08  \n",
      "5300. Out: 7.9068363e-10  In: 7.1854972e-10  \n",
      "5400. Out: 4.3392343e-09  In: 4.3696340e-09  \n",
      "5500. Out: 8.3528642e-09  In: 8.2366478e-09  \n",
      "5600. Out: 9.0307344e-09  In: 8.8410284e-09  \n",
      "5700. Out: 3.7165213e-10  In: 2.8010955e-10  \n",
      "5800. Out: 9.0373984e-09  In: 8.9929664e-09  \n",
      "5900. Out: -3.9838167e-11  In: -5.1461824e-11  \n",
      "6000. Out: 1.9025672e-08  In: 1.9245910e-08  \n",
      "6100. Out: 2.0125281e-10  In: 5.5754734e-10  \n",
      "6200. Out: 2.2770554e-09  In: 2.4019711e-09  \n",
      "6300. Out: 2.0554087e-09  In: 2.3059106e-09  \n",
      "6400. Out: 9.0373475e-10  In: 1.1253469e-09  \n",
      "6500. Out: 1.6932262e-08  In: 1.7034498e-08  \n",
      "6600. Out: 1.3042787e-08  In: 1.2564093e-08  \n",
      "6700. Out: 3.4763186e-09  In: 3.2187832e-09  \n",
      "6800. Out: 1.6470449e-09  In: 1.4610679e-09  \n",
      "6900. Out: 9.2763491e-10  In: 1.2662733e-09  \n",
      "7000. Out: 1.3133150e-08  In: 1.3202284e-08  \n",
      "7100. Out: 1.2696591e-08  In: 1.2966849e-08  \n",
      "7200. Out: 5.7903828e-09  In: 5.7107861e-09  \n",
      "7300. Out: 2.5311704e-09  In: 2.9262692e-09  \n",
      "7400. Out: 5.7457292e-09  In: 5.7486398e-09  \n",
      "7500. Out: 1.1039143e-09  In: 9.4751196e-10  \n",
      "7600. Out: 6.3074017e-09  In: 6.5383690e-09  \n",
      "7700. Out: 3.8484318e-09  In: 4.2702188e-09  \n",
      "7800. Out: 1.0249752e-09  In: 1.5713120e-09  \n",
      "7900. Out: 1.5774386e-08  In: 1.5891786e-08  \n",
      "8000. Out: 1.2043508e-09  In: 1.6177800e-09  \n",
      "8100. Out: 6.3792172e-09  In: 6.1851306e-09  \n",
      "8200. Out: 4.1383061e-09  In: 3.9077896e-09  \n",
      "8300. Out: 9.9401074e-09  In: 1.0199606e-08  \n",
      "8400. Out: 5.5374052e-09  In: 5.4769447e-09  \n",
      "8500. Out: 2.7522207e-10  In: 2.2549725e-10  \n",
      "8600. Out: 3.8696877e-09  In: 3.8139532e-09  \n",
      "8700. Out: 6.1017462e-09  In: 5.9915242e-09  \n",
      "8800. Out: 5.2710569e-09  In: 5.4040070e-09  \n",
      "8900. Out: 7.4255722e-09  In: 7.4522424e-09  \n",
      "9000. Out: 7.1157791e-10  In: 6.0265415e-10  \n",
      "9100. Out: 5.4982829e-10  In: 3.8214690e-10  \n",
      "9200. Out: 1.4076711e-09  In: 1.5998954e-09  \n",
      "9300. Out: 2.9575191e-09  In: 2.9896272e-09  \n",
      "9400. Out: 9.0097716e-09  In: 9.0724495e-09  \n",
      "9500. Out: 8.6037533e-09  In: 8.3808294e-09  \n",
      "9600. Out: 3.9623895e-09  In: 4.6245585e-09  \n",
      "9700. Out: 9.5586907e-09  In: 9.4630410e-09  \n",
      "9800. Out: 8.3340073e-09  In: 8.3972180e-09  \n",
      "9900. Out: 2.4820126e-09  In: 2.5577847e-09  \n",
      "10000. Out: 6.6429737e-09  In: 7.0809429e-09  \n"
     ]
    }
   ],
   "source": [
    "model, optimizer = create_model(\"test_model\", load_checkpoint=False, num_layers=num_layers, seq_len=seq_len)\n",
    "loss_obj = tf.keras.losses.KLDivergence()\n",
    "\n",
    "(xt, yt) = create_dataset(N=1000) # test\n",
    "epoch = 1\n",
    "\n",
    "(x, y) = create_dataset(N=100)\n",
    "print(f\"{epoch:3}. Out: {evaluate(model, xt, yt):.7e}  In: {evaluate(model, x, y):.7e}  \")\n",
    "\n",
    "for _ in range(10_000):        \n",
    "    epoch += 1\n",
    "\n",
    "    with tf.GradientTape() as tape:\n",
    "            pred = model(x, training=True)        \n",
    "\n",
    "            loss = loss_obj(y, pred)\n",
    "#                 print(loss)\n",
    "    #         loss = tf.keras.losses.binary_crossentropy(y_true=y, y_pred=logits, from_logits=True)\n",
    "\n",
    "    grads = tape.gradient(loss, model.trainable_weights)                \n",
    "    optimizer.apply_gradients(zip(grads, model.trainable_weights))\n",
    "\n",
    "#     (xt, yt) = create_dataset(N=100)\n",
    "    if epoch % 100 == 0:\n",
    "        print(f\"{epoch:3}. Out: {evaluate(model, xt, yt):.7e}  In: {evaluate(model, x, y):.7e}  \")\n",
    "    "
   ]
  },
  {
   "cell_type": "code",
   "execution_count": null,
   "metadata": {},
   "outputs": [],
   "source": []
  }
 ],
 "metadata": {
  "kernelspec": {
   "display_name": "Python 3",
   "language": "python",
   "name": "python3"
  },
  "language_info": {
   "codemirror_mode": {
    "name": "ipython",
    "version": 3
   },
   "file_extension": ".py",
   "mimetype": "text/x-python",
   "name": "python",
   "nbconvert_exporter": "python",
   "pygments_lexer": "ipython3",
   "version": "3.7.3"
  }
 },
 "nbformat": 4,
 "nbformat_minor": 4
}

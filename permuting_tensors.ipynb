{
 "cells": [
  {
   "cell_type": "code",
   "execution_count": 45,
   "metadata": {},
   "outputs": [],
   "source": [
    "import tensorflow as tf\n",
    "import numpy as np"
   ]
  },
  {
   "cell_type": "code",
   "execution_count": 46,
   "metadata": {},
   "outputs": [
    {
     "name": "stdout",
     "output_type": "stream",
     "text": [
      "tf.Tensor(\n",
      "[[[1 2]\n",
      "  [2 1]\n",
      "  [3 3]]\n",
      "\n",
      " [[1 2]\n",
      "  [2 3]\n",
      "  [3 4]]], shape=(2, 3, 2), dtype=int32)\n",
      "tf.Tensor(\n",
      "[[[1 2]\n",
      "  [2 1]\n",
      "  [3 3]]\n",
      "\n",
      " [[1 2]\n",
      "  [2 3]\n",
      "  [3 4]]], shape=(2, 3, 2), dtype=int32)\n"
     ]
    }
   ],
   "source": [
    "a = tf.constant([[[1,2],[2,1],[3,3]], [[1,2],[2,3],[3,4]]])\n",
    "print(a)\n",
    "b = tf.transpose(tf.random.shuffle(tf.transpose(a)))\n",
    "print(b)"
   ]
  },
  {
   "cell_type": "code",
   "execution_count": 41,
   "metadata": {},
   "outputs": [],
   "source": [
    "a2 = np.random.randint(5, size=(2, 2, 4, 3 ))"
   ]
  },
  {
   "cell_type": "code",
   "execution_count": 42,
   "metadata": {},
   "outputs": [
    {
     "data": {
      "text/plain": [
       "array([[[[3, 0, 4],\n",
       "         [2, 1, 4],\n",
       "         [1, 0, 1],\n",
       "         [3, 3, 2]],\n",
       "\n",
       "        [[4, 3, 0],\n",
       "         [3, 4, 1],\n",
       "         [2, 3, 3],\n",
       "         [0, 1, 0]]],\n",
       "\n",
       "\n",
       "       [[[0, 3, 2],\n",
       "         [4, 3, 3],\n",
       "         [2, 3, 2],\n",
       "         [4, 1, 1]],\n",
       "\n",
       "        [[4, 2, 1],\n",
       "         [1, 3, 3],\n",
       "         [3, 3, 4],\n",
       "         [4, 0, 3]]]])"
      ]
     },
     "execution_count": 42,
     "metadata": {},
     "output_type": "execute_result"
    }
   ],
   "source": [
    "a2"
   ]
  },
  {
   "cell_type": "code",
   "execution_count": 44,
   "metadata": {},
   "outputs": [
    {
     "data": {
      "text/plain": [
       "array([[[[4, 0, 3],\n",
       "         [4, 1, 2],\n",
       "         [1, 0, 1],\n",
       "         [2, 3, 3]],\n",
       "\n",
       "        [[0, 3, 4],\n",
       "         [1, 4, 3],\n",
       "         [3, 3, 2],\n",
       "         [0, 1, 0]]],\n",
       "\n",
       "\n",
       "       [[[2, 3, 0],\n",
       "         [3, 3, 4],\n",
       "         [2, 3, 2],\n",
       "         [1, 1, 4]],\n",
       "\n",
       "        [[1, 2, 4],\n",
       "         [3, 3, 1],\n",
       "         [4, 3, 3],\n",
       "         [3, 0, 4]]]])"
      ]
     },
     "execution_count": 44,
     "metadata": {},
     "output_type": "execute_result"
    }
   ],
   "source": [
    "a2[:, :, :, [2, 1, 0]]"
   ]
  },
  {
   "cell_type": "code",
   "execution_count": null,
   "metadata": {},
   "outputs": [],
   "source": []
  }
 ],
 "metadata": {
  "kernelspec": {
   "display_name": "Python 3",
   "language": "python",
   "name": "python3"
  },
  "language_info": {
   "codemirror_mode": {
    "name": "ipython",
    "version": 3
   },
   "file_extension": ".py",
   "mimetype": "text/x-python",
   "name": "python",
   "nbconvert_exporter": "python",
   "pygments_lexer": "ipython3",
   "version": "3.7.3"
  }
 },
 "nbformat": 4,
 "nbformat_minor": 4
}
